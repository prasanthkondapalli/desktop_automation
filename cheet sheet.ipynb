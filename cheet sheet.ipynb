{
 "cells": [
  {
   "cell_type": "markdown",
   "id": "d07509ff",
   "metadata": {},
   "source": [
    "Importing pyautogui"
   ]
  },
  {
   "cell_type": "code",
   "execution_count": 97,
   "id": "be5706c8",
   "metadata": {},
   "outputs": [],
   "source": [
    "import pyautogui as pg\n",
    "import time"
   ]
  },
  {
   "cell_type": "markdown",
   "id": "53ca0f99",
   "metadata": {},
   "source": [
    "### Basics functions"
   ]
  },
  {
   "cell_type": "markdown",
   "id": "8d64a4b9",
   "metadata": {},
   "source": [
    "To get the position of the mouse"
   ]
  },
  {
   "cell_type": "code",
   "execution_count": 100,
   "id": "95e64c5d",
   "metadata": {
    "scrolled": true
   },
   "outputs": [
    {
     "data": {
      "text/plain": [
       "Point(x=473, y=459)"
      ]
     },
     "execution_count": 100,
     "metadata": {},
     "output_type": "execute_result"
    }
   ],
   "source": [
    "pg.position()"
   ]
  },
  {
   "cell_type": "code",
   "execution_count": 4,
   "id": "303a1e60",
   "metadata": {},
   "outputs": [],
   "source": [
    "position = pg.position()"
   ]
  },
  {
   "cell_type": "code",
   "execution_count": 5,
   "id": "e5b04200",
   "metadata": {},
   "outputs": [
    {
     "data": {
      "text/plain": [
       "Point(x=317, y=456)"
      ]
     },
     "execution_count": 5,
     "metadata": {},
     "output_type": "execute_result"
    }
   ],
   "source": [
    "position"
   ]
  },
  {
   "cell_type": "markdown",
   "id": "36b08883",
   "metadata": {},
   "source": [
    "to get current screen size"
   ]
  },
  {
   "cell_type": "code",
   "execution_count": 8,
   "id": "28b7bac1",
   "metadata": {},
   "outputs": [
    {
     "data": {
      "text/plain": [
       "Size(width=1920, height=1080)"
      ]
     },
     "execution_count": 8,
     "metadata": {},
     "output_type": "execute_result"
    }
   ],
   "source": [
    "pg.size()"
   ]
  },
  {
   "cell_type": "code",
   "execution_count": 13,
   "id": "0a3ca4f2",
   "metadata": {
    "scrolled": true
   },
   "outputs": [
    {
     "data": {
      "text/plain": [
       "True"
      ]
     },
     "execution_count": 13,
     "metadata": {},
     "output_type": "execute_result"
    }
   ],
   "source": [
    "pg.onScreen(123,456)"
   ]
  },
  {
   "cell_type": "markdown",
   "id": "d305b20c",
   "metadata": {},
   "source": [
    "### Fails Safes"
   ]
  },
  {
   "cell_type": "markdown",
   "id": "f6c7bf9d",
   "metadata": {},
   "source": [
    "to set a fail safe for getting failed, we can set required time for pause after each pyautogui"
   ]
  },
  {
   "cell_type": "code",
   "execution_count": 15,
   "id": "548ab05a",
   "metadata": {},
   "outputs": [],
   "source": [
    "pg.PAUSE = 1\n",
    "# it will pause for specified time when it is in continueos script instead of cells"
   ]
  },
  {
   "cell_type": "markdown",
   "id": "debb9615",
   "metadata": {},
   "source": [
    "setting fail-safe to true, it will raise to method to stop the running script by moving mouse to upper-left"
   ]
  },
  {
   "cell_type": "code",
   "execution_count": 42,
   "id": "259d53b3",
   "metadata": {},
   "outputs": [],
   "source": [
    "pg.FAILSAFE = True"
   ]
  },
  {
   "cell_type": "markdown",
   "id": "a173b938",
   "metadata": {},
   "source": [
    "### Mouse Functions"
   ]
  },
  {
   "cell_type": "markdown",
   "id": "8a2c13ce",
   "metadata": {},
   "source": [
    "+ args that needs to pass\n",
    "    + x\n",
    "    + y\n",
    "    + duration in sec"
   ]
  },
  {
   "cell_type": "markdown",
   "id": "e98cf22a",
   "metadata": {},
   "source": [
    "Moving mouse to specific coordinates"
   ]
  },
  {
   "cell_type": "code",
   "execution_count": 64,
   "id": "9aba42c2",
   "metadata": {},
   "outputs": [],
   "source": [
    "pg.moveTo(345,369,3)"
   ]
  },
  {
   "cell_type": "code",
   "execution_count": 29,
   "id": "8f514172",
   "metadata": {},
   "outputs": [],
   "source": [
    "pg.moveRel(-100,100,3)"
   ]
  },
  {
   "cell_type": "code",
   "execution_count": 35,
   "id": "e3f5531b",
   "metadata": {},
   "outputs": [],
   "source": [
    "pg.move(100,100,3)"
   ]
  },
  {
   "cell_type": "markdown",
   "id": "2b80523a",
   "metadata": {},
   "source": [
    "Drag functionalities"
   ]
  },
  {
   "cell_type": "code",
   "execution_count": 66,
   "id": "2a7b6ec6",
   "metadata": {},
   "outputs": [],
   "source": [
    "pg.dragTo(545,369,3)"
   ]
  },
  {
   "cell_type": "code",
   "execution_count": 67,
   "id": "d9b4cad2",
   "metadata": {},
   "outputs": [],
   "source": [
    "pg.dragRel(100,100,3)"
   ]
  },
  {
   "cell_type": "code",
   "execution_count": 68,
   "id": "7f3d5782",
   "metadata": {},
   "outputs": [],
   "source": [
    "pg.drag(100,100,3)"
   ]
  },
  {
   "cell_type": "markdown",
   "id": "9f0e63fa",
   "metadata": {},
   "source": [
    "Click Operations"
   ]
  },
  {
   "cell_type": "markdown",
   "id": "2afa5676",
   "metadata": {},
   "source": [
    "+ args that need to pass \n",
    "    + x\n",
    "    + y\n",
    "    + number_of_clicks\n",
    "    + secs_between_clicks\n",
    "    + button\n",
    "        (needs to pass in string)\n",
    "        - left\n",
    "        - middle\n",
    "        - right\n",
    "+ if there is no aurguments was passed it will just click on the same place where mouse is present"
   ]
  },
  {
   "cell_type": "code",
   "execution_count": 74,
   "id": "aa32e7d2",
   "metadata": {},
   "outputs": [],
   "source": [
    "pg.click(1069,244,2,1,'left')"
   ]
  },
  {
   "cell_type": "markdown",
   "id": "1a4c95fd",
   "metadata": {},
   "source": [
    "some common click methos\n",
    "here need to pass 'x' and 'y' aurguments only"
   ]
  },
  {
   "cell_type": "code",
   "execution_count": 75,
   "id": "334ed23e",
   "metadata": {},
   "outputs": [],
   "source": [
    "pg.rightClick()"
   ]
  },
  {
   "cell_type": "code",
   "execution_count": 87,
   "id": "9a469b3e",
   "metadata": {},
   "outputs": [],
   "source": [
    "pg.middleClick()"
   ]
  },
  {
   "cell_type": "code",
   "execution_count": 88,
   "id": "db0d6bba",
   "metadata": {},
   "outputs": [],
   "source": [
    "pg.doubleClick()"
   ]
  },
  {
   "cell_type": "code",
   "execution_count": 89,
   "id": "f1c41535",
   "metadata": {},
   "outputs": [],
   "source": [
    "pg.tripleClick()"
   ]
  },
  {
   "cell_type": "markdown",
   "id": "4d30c44f",
   "metadata": {},
   "source": [
    "Scroll \n",
    "+ Arguments needs to pass\n",
    "    - amount of scroll\n",
    "    - x\n",
    "    - y"
   ]
  },
  {
   "cell_type": "code",
   "execution_count": 102,
   "id": "8a0482b4",
   "metadata": {},
   "outputs": [],
   "source": [
    "time.sleep(3)\n",
    "pg.click(768,561)\n",
    "pg.scroll(5)\n",
    "pg.scroll(-5)"
   ]
  },
  {
   "cell_type": "code",
   "execution_count": 101,
   "id": "37f902f9",
   "metadata": {},
   "outputs": [],
   "source": [
    "time.sleep(3)\n",
    "pg.mouseDown(608,564,'left')\n",
    "pg.mouseUp(x=473, y=459,button='left')"
   ]
  },
  {
   "cell_type": "markdown",
   "id": "2d758be6",
   "metadata": {},
   "source": [
    "### Keyboard functions"
   ]
  },
  {
   "cell_type": "code",
   "execution_count": 147,
   "id": "0c3e2b66",
   "metadata": {},
   "outputs": [],
   "source": [
    "time.sleep(3)\n",
    "pg.press('enter')\n",
    "pg.typewrite('keyboardFunctions',0.15)"
   ]
  },
  {
   "cell_type": "raw",
   "id": "83e3b864",
   "metadata": {},
   "source": [
    "keyboardFunctions"
   ]
  },
  {
   "cell_type": "markdown",
   "id": "828d3330",
   "metadata": {},
   "source": []
  },
  {
   "cell_type": "code",
   "execution_count": 144,
   "id": "a57ff517",
   "metadata": {},
   "outputs": [],
   "source": [
    "time.sleep(3)\n",
    "pg.typewrite(['enter','pagedown','a','C','B','c','left','backspace','enter'],1)"
   ]
  },
  {
   "cell_type": "raw",
   "id": "34fcd77e",
   "metadata": {},
   "source": [
    "aCaCBc\n",
    "ca\n",
    "aa\n",
    "c\n",
    "\n",
    "caC\n",
    "c"
   ]
  },
  {
   "cell_type": "markdown",
   "id": "0ad1fa49",
   "metadata": {},
   "source": [
    " "
   ]
  },
  {
   "cell_type": "code",
   "execution_count": 118,
   "id": "143700fd",
   "metadata": {},
   "outputs": [
    {
     "name": "stdout",
     "output_type": "stream",
     "text": [
      "['\\t', '\\n', '\\r', ' ', '!', '\"', '#', '$', '%', '&', \"'\", '(', ')', '*', '+', ',', '-', '.', '/', '0', '1', '2', '3', '4', '5', '6', '7', '8', '9', ':', ';', '<', '=', '>', '?', '@', '[', '\\\\', ']', '^', '_', '`', 'a', 'b', 'c', 'd', 'e', 'f', 'g', 'h', 'i', 'j', 'k', 'l', 'm', 'n', 'o', 'p', 'q', 'r', 's', 't', 'u', 'v', 'w', 'x', 'y', 'z', '{', '|', '}', '~', 'accept', 'add', 'alt', 'altleft', 'altright', 'apps', 'backspace', 'browserback', 'browserfavorites', 'browserforward', 'browserhome', 'browserrefresh', 'browsersearch', 'browserstop', 'capslock', 'clear', 'convert', 'ctrl', 'ctrlleft', 'ctrlright', 'decimal', 'del', 'delete', 'divide', 'down', 'end', 'enter', 'esc', 'escape', 'execute', 'f1', 'f10', 'f11', 'f12', 'f13', 'f14', 'f15', 'f16', 'f17', 'f18', 'f19', 'f2', 'f20', 'f21', 'f22', 'f23', 'f24', 'f3', 'f4', 'f5', 'f6', 'f7', 'f8', 'f9', 'final', 'fn', 'hanguel', 'hangul', 'hanja', 'help', 'home', 'insert', 'junja', 'kana', 'kanji', 'launchapp1', 'launchapp2', 'launchmail', 'launchmediaselect', 'left', 'modechange', 'multiply', 'nexttrack', 'nonconvert', 'num0', 'num1', 'num2', 'num3', 'num4', 'num5', 'num6', 'num7', 'num8', 'num9', 'numlock', 'pagedown', 'pageup', 'pause', 'pgdn', 'pgup', 'playpause', 'prevtrack', 'print', 'printscreen', 'prntscrn', 'prtsc', 'prtscr', 'return', 'right', 'scrolllock', 'select', 'separator', 'shift', 'shiftleft', 'shiftright', 'sleep', 'space', 'stop', 'subtract', 'tab', 'up', 'volumedown', 'volumemute', 'volumeup', 'win', 'winleft', 'winright', 'yen', 'command', 'option', 'optionleft', 'optionright']\n"
     ]
    }
   ],
   "source": [
    "print(pg.KEYBOARD_KEYS)"
   ]
  },
  {
   "cell_type": "code",
   "execution_count": 119,
   "id": "f565f652",
   "metadata": {},
   "outputs": [
    {
     "name": "stdout",
     "output_type": "stream",
     "text": [
      "['\\t', '\\n', '\\r', ' ', '!', '\"', '#', '$', '%', '&', \"'\", '(', ')', '*', '+', ',', '-', '.', '/', '0', '1', '2', '3', '4', '5', '6', '7', '8', '9', ':', ';', '<', '=', '>', '?', '@', '[', '\\\\', ']', '^', '_', '`', 'a', 'b', 'c', 'd', 'e', 'f', 'g', 'h', 'i', 'j', 'k', 'l', 'm', 'n', 'o', 'p', 'q', 'r', 's', 't', 'u', 'v', 'w', 'x', 'y', 'z', '{', '|', '}', '~', 'accept', 'add', 'alt', 'altleft', 'altright', 'apps', 'backspace', 'browserback', 'browserfavorites', 'browserforward', 'browserhome', 'browserrefresh', 'browsersearch', 'browserstop', 'capslock', 'clear', 'convert', 'ctrl', 'ctrlleft', 'ctrlright', 'decimal', 'del', 'delete', 'divide', 'down', 'end', 'enter', 'esc', 'escape', 'execute', 'f1', 'f10', 'f11', 'f12', 'f13', 'f14', 'f15', 'f16', 'f17', 'f18', 'f19', 'f2', 'f20', 'f21', 'f22', 'f23', 'f24', 'f3', 'f4', 'f5', 'f6', 'f7', 'f8', 'f9', 'final', 'fn', 'hanguel', 'hangul', 'hanja', 'help', 'home', 'insert', 'junja', 'kana', 'kanji', 'launchapp1', 'launchapp2', 'launchmail', 'launchmediaselect', 'left', 'modechange', 'multiply', 'nexttrack', 'nonconvert', 'num0', 'num1', 'num2', 'num3', 'num4', 'num5', 'num6', 'num7', 'num8', 'num9', 'numlock', 'pagedown', 'pageup', 'pause', 'pgdn', 'pgup', 'playpause', 'prevtrack', 'print', 'printscreen', 'prntscrn', 'prtsc', 'prtscr', 'return', 'right', 'scrolllock', 'select', 'separator', 'shift', 'shiftleft', 'shiftright', 'sleep', 'space', 'stop', 'subtract', 'tab', 'up', 'volumedown', 'volumemute', 'volumeup', 'win', 'winleft', 'winright', 'yen', 'command', 'option', 'optionleft', 'optionright']\n"
     ]
    }
   ],
   "source": [
    "print(pg.KEY_NAMES)"
   ]
  },
  {
   "cell_type": "code",
   "execution_count": 138,
   "id": "2e30a547",
   "metadata": {},
   "outputs": [],
   "source": [
    "pg.hotkey('l')"
   ]
  },
  {
   "cell_type": "code",
   "execution_count": 140,
   "id": "67f9698a",
   "metadata": {},
   "outputs": [],
   "source": [
    "time.sleep(3)\n",
    "pg.keyDown('win')\n",
    "pg.keyUp('win')"
   ]
  },
  {
   "cell_type": "markdown",
   "id": "c09ee42e",
   "metadata": {},
   "source": [
    " ### Message Box functionalities"
   ]
  },
  {
   "cell_type": "markdown",
   "id": "7a963c6c",
   "metadata": {},
   "source": [
    "These functionalities will used to pause the script untill user performs the actions as per the message boxes"
   ]
  },
  {
   "cell_type": "markdown",
   "id": "acd335ca",
   "metadata": {},
   "source": [
    "+ pyautogui.alert('type any message') # displays until user click on ok button.\n",
    "+ pyautogui.confirm('type any message') #displays ok or cancel buttons \n",
    "    + this will return OK or Cancel\n",
    "+ pyautogui.promt('type any message') #just displays what used typed.\n",
    "    + it wil return what user has been typed.\n",
    "    + displays ok or cancel. \n",
    "        + ok will returns the typed string.\n",
    "        + cancel button wont."
   ]
  },
  {
   "cell_type": "code",
   "execution_count": 148,
   "id": "aa846158",
   "metadata": {},
   "outputs": [
    {
     "data": {
      "text/plain": [
       "'OK'"
      ]
     },
     "execution_count": 148,
     "metadata": {},
     "output_type": "execute_result"
    }
   ],
   "source": [
    "pg.alert(\"this message for testing\")"
   ]
  },
  {
   "cell_type": "code",
   "execution_count": 149,
   "id": "0d6448fd",
   "metadata": {},
   "outputs": [
    {
     "data": {
      "text/plain": [
       "'OK'"
      ]
     },
     "execution_count": 149,
     "metadata": {},
     "output_type": "execute_result"
    }
   ],
   "source": [
    "pg.confirm(\"just a confirmation message click ok or cancel\")"
   ]
  },
  {
   "cell_type": "code",
   "execution_count": 150,
   "id": "c57c7b03",
   "metadata": {},
   "outputs": [
    {
     "data": {
      "text/plain": [
       "'Cancel'"
      ]
     },
     "execution_count": 150,
     "metadata": {},
     "output_type": "execute_result"
    }
   ],
   "source": [
    "pg.confirm(\"just click cancel if you clicked ok first time\")"
   ]
  },
  {
   "cell_type": "code",
   "execution_count": 151,
   "id": "091dd1dc",
   "metadata": {},
   "outputs": [
    {
     "data": {
      "text/plain": [
       "'dgrg'"
      ]
     },
     "execution_count": 151,
     "metadata": {},
     "output_type": "execute_result"
    }
   ],
   "source": [
    "pg.prompt(\"testing the promt functionality\")"
   ]
  },
  {
   "cell_type": "code",
   "execution_count": 154,
   "id": "a8f6d63f",
   "metadata": {},
   "outputs": [],
   "source": [
    "# this will give you empty message \n",
    "pg.prompt()"
   ]
  },
  {
   "cell_type": "code",
   "execution_count": null,
   "id": "d86cac81",
   "metadata": {},
   "outputs": [],
   "source": []
  }
 ],
 "metadata": {
  "celltoolbar": "Raw Cell Format",
  "kernelspec": {
   "display_name": "Python 3 (ipykernel)",
   "language": "python",
   "name": "python3"
  },
  "language_info": {
   "codemirror_mode": {
    "name": "ipython",
    "version": 3
   },
   "file_extension": ".py",
   "mimetype": "text/x-python",
   "name": "python",
   "nbconvert_exporter": "python",
   "pygments_lexer": "ipython3",
   "version": "3.11.5"
  }
 },
 "nbformat": 4,
 "nbformat_minor": 5
}
